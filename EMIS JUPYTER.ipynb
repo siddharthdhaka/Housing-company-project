{
 "cells": [
  {
   "cell_type": "markdown",
   "id": "5dd1f188",
   "metadata": {},
   "source": [
    "Making a directory first in which csv file shall be saved"
   ]
  },
  {
   "cell_type": "code",
   "execution_count": 457,
   "id": "4d1beec0",
   "metadata": {},
   "outputs": [],
   "source": [
    "import os"
   ]
  },
  {
   "cell_type": "code",
   "execution_count": 458,
   "id": "0d3eb1ec",
   "metadata": {},
   "outputs": [],
   "source": [
    "os.makedirs('./data2', exist_ok = True)"
   ]
  },
  {
   "cell_type": "code",
   "execution_count": 459,
   "id": "bdd1a156",
   "metadata": {},
   "outputs": [],
   "source": [
    "url11 = 'http://localhost:8888/edit/data2/housingcompany.txt'"
   ]
  },
  {
   "cell_type": "code",
   "execution_count": 460,
   "id": "cc2948ba",
   "metadata": {},
   "outputs": [],
   "source": [
    "import urllib.request"
   ]
  },
  {
   "cell_type": "code",
   "execution_count": 463,
   "id": "9f85fb86",
   "metadata": {},
   "outputs": [
    {
     "data": {
      "text/plain": [
       "True"
      ]
     },
     "execution_count": 463,
     "metadata": {},
     "output_type": "execute_result"
    }
   ],
   "source": [
    "'data2'in os.listdir('.')"
   ]
  },
  {
   "cell_type": "code",
   "execution_count": 464,
   "id": "e7ac128c",
   "metadata": {},
   "outputs": [
    {
     "data": {
      "text/plain": [
       "['.ipynb_checkpoints', 'emis11.txt', 'housing company.txt']"
      ]
     },
     "execution_count": 464,
     "metadata": {},
     "output_type": "execute_result"
    }
   ],
   "source": [
    "os.listdir('./data2')"
   ]
  },
  {
   "cell_type": "code",
   "execution_count": 465,
   "id": "504ad64f",
   "metadata": {},
   "outputs": [],
   "source": [
    "import urllib.request"
   ]
  },
  {
   "cell_type": "code",
   "execution_count": 468,
   "id": "0a55e7b2",
   "metadata": {},
   "outputs": [
    {
     "data": {
      "text/plain": [
       "('./data2/housingcompany.txt', <http.client.HTTPMessage at 0x1dec907a128>)"
      ]
     },
     "execution_count": 468,
     "metadata": {},
     "output_type": "execute_result"
    }
   ],
   "source": [
    "urllib.request.urlretrieve(url11, './data2/housingcompany.txt')"
   ]
  },
  {
   "cell_type": "code",
   "execution_count": 469,
   "id": "48d529e4",
   "metadata": {},
   "outputs": [],
   "source": [
    "file11 = open('./data2/housingcompany.txt', mode = 'r')"
   ]
  },
  {
   "cell_type": "code",
   "execution_count": 470,
   "id": "9a91a351",
   "metadata": {},
   "outputs": [],
   "source": [
    "file11_contents = file11.read()"
   ]
  },
  {
   "cell_type": "code",
   "execution_count": null,
   "id": "f9cf4e49",
   "metadata": {},
   "outputs": [],
   "source": [
    "print(file11_contents)"
   ]
  },
  {
   "cell_type": "code",
   "execution_count": 472,
   "id": "89532831",
   "metadata": {},
   "outputs": [],
   "source": [
    "with open('./data2/housingcompany.txt', 'r') as file11:\n",
    "    file11_lines = file11.readlines()"
   ]
  },
  {
   "cell_type": "code",
   "execution_count": 307,
   "id": "749f36ae",
   "metadata": {},
   "outputs": [],
   "source": [
    "def parse_headers(header_line):\n",
    "    return header_line.strip().split(',')"
   ]
  },
  {
   "cell_type": "code",
   "execution_count": null,
   "id": "b1fd63c7",
   "metadata": {},
   "outputs": [],
   "source": [
    "file11_lines"
   ]
  },
  {
   "cell_type": "code",
   "execution_count": 308,
   "id": "877fa898",
   "metadata": {},
   "outputs": [
    {
     "data": {
      "text/plain": [
       "'amount,duraion,rate,down_payment\\n'"
      ]
     },
     "execution_count": 308,
     "metadata": {},
     "output_type": "execute_result"
    }
   ],
   "source": [
    "file11_lines[0]"
   ]
  },
  {
   "cell_type": "code",
   "execution_count": 309,
   "id": "f6ada771",
   "metadata": {},
   "outputs": [],
   "source": [
    "headers = parse_headers(file11_lines[0])"
   ]
  },
  {
   "cell_type": "code",
   "execution_count": 310,
   "id": "7baa8ba7",
   "metadata": {},
   "outputs": [
    {
     "data": {
      "text/plain": [
       "['amount', 'duraion', 'rate', 'down_payment']"
      ]
     },
     "execution_count": 310,
     "metadata": {},
     "output_type": "execute_result"
    }
   ],
   "source": [
    "headers"
   ]
  },
  {
   "cell_type": "code",
   "execution_count": 382,
   "id": "0d95b14b",
   "metadata": {},
   "outputs": [],
   "source": [
    "def parse_values(data_line):\n",
    "    values = []\n",
    "    for item in data_line.strip().split(','):\n",
    "        if item == '':\n",
    "            values.append(0.0)\n",
    "        else:\n",
    "            values.append(float(item))\n",
    "    return values"
   ]
  },
  {
   "cell_type": "code",
   "execution_count": 383,
   "id": "346a1d4e",
   "metadata": {},
   "outputs": [
    {
     "data": {
      "text/plain": [
       "'100000,36,0.08,20000\\n'"
      ]
     },
     "execution_count": 383,
     "metadata": {},
     "output_type": "execute_result"
    }
   ],
   "source": [
    "file11_lines[1]"
   ]
  },
  {
   "cell_type": "code",
   "execution_count": 313,
   "id": "0262e4fb",
   "metadata": {},
   "outputs": [
    {
     "data": {
      "text/plain": [
       "['100000', '36', '0.08', '20000']"
      ]
     },
     "execution_count": 313,
     "metadata": {},
     "output_type": "execute_result"
    }
   ],
   "source": [
    "file11_lines[1].strip().split(',')"
   ]
  },
  {
   "cell_type": "code",
   "execution_count": 423,
   "id": "8f0fb8ac",
   "metadata": {},
   "outputs": [],
   "source": [
    "def create_item_dict(values, headers):\n",
    "    result = {}\n",
    "    for value, header in zip(values, headers):\n",
    "        result[header] = value\n",
    "    return result"
   ]
  },
  {
   "cell_type": "code",
   "execution_count": 424,
   "id": "d20754a7",
   "metadata": {},
   "outputs": [],
   "source": [
    "values1 = parse_values(file11_lines[1])"
   ]
  },
  {
   "cell_type": "code",
   "execution_count": 425,
   "id": "e6e81714",
   "metadata": {},
   "outputs": [
    {
     "data": {
      "text/plain": [
       "[100000.0, 36.0, 0.08, 20000.0]"
      ]
     },
     "execution_count": 425,
     "metadata": {},
     "output_type": "execute_result"
    }
   ],
   "source": [
    "values1"
   ]
  },
  {
   "cell_type": "code",
   "execution_count": 426,
   "id": "d0db625c",
   "metadata": {},
   "outputs": [
    {
     "data": {
      "text/plain": [
       "['amount', 'duraion', 'rate', 'down_payment']"
      ]
     },
     "execution_count": 426,
     "metadata": {},
     "output_type": "execute_result"
    }
   ],
   "source": [
    "headers"
   ]
  },
  {
   "cell_type": "code",
   "execution_count": 428,
   "id": "a0305218",
   "metadata": {},
   "outputs": [
    {
     "data": {
      "text/plain": [
       "{'amount': 100000.0, 'duraion': 36.0, 'rate': 0.08, 'down_payment': 20000.0}"
      ]
     },
     "execution_count": 428,
     "metadata": {},
     "output_type": "execute_result"
    }
   ],
   "source": [
    "create_item_dict(values1, headers)"
   ]
  },
  {
   "cell_type": "code",
   "execution_count": 429,
   "id": "3420a116",
   "metadata": {},
   "outputs": [],
   "source": [
    "def read_csv(path):\n",
    "    result = []\n",
    "    with open(path,'r') as f:\n",
    "        lines = f.readlines()\n",
    "        headers = parse_headers(lines[0])\n",
    "        for data_line in lines[1:]:\n",
    "            values = parse_values(data_line)\n",
    "            item_dict = create_item_dict(values, headers)\n",
    "            result.append(item_dict)\n",
    "    return result"
   ]
  },
  {
   "cell_type": "code",
   "execution_count": 430,
   "id": "e7d17f20",
   "metadata": {},
   "outputs": [
    {
     "name": "stdout",
     "output_type": "stream",
     "text": [
      "amount,duraion,rate,down_payment\n",
      "100000,36,0.08,20000\n",
      "200000,12,0.1,\n",
      "628400,120,0.12,100000\n",
      "4637400,240,0.06,\n",
      "42900,90,0.07,8900\n",
      "50000,16,0.13,\n",
      "230000,48,0.08,4300\n",
      "500000,99,0.08,\n",
      "2500000,27,0.09,47200\n",
      "5470000,120,0.11,100000\n",
      "983000,240,0.06,\n",
      "5600000,90,0.08,8900\n",
      "459000,16,0.14,\n",
      "670000,48,0.07,4300\n",
      "4000000,48,0.07,4300\n",
      "700000,16,0.14,\n",
      "200000,12,0.1,\n",
      "3637400,120,0.12,100000\n",
      "728400,240,0.06,\n",
      "\n"
     ]
    }
   ],
   "source": [
    "with open('./data2/housingcompany.txt') as file11:\n",
    "    print(file11.read())"
   ]
  },
  {
   "cell_type": "code",
   "execution_count": 433,
   "id": "d48b9721",
   "metadata": {},
   "outputs": [
    {
     "data": {
      "text/plain": [
       "[{'amount': 100000.0, 'duraion': 36.0, 'rate': 0.08, 'down_payment': 20000.0},\n",
       " {'amount': 200000.0, 'duraion': 12.0, 'rate': 0.1, 'down_payment': 0.0},\n",
       " {'amount': 628400.0,\n",
       "  'duraion': 120.0,\n",
       "  'rate': 0.12,\n",
       "  'down_payment': 100000.0},\n",
       " {'amount': 4637400.0, 'duraion': 240.0, 'rate': 0.06, 'down_payment': 0.0},\n",
       " {'amount': 42900.0, 'duraion': 90.0, 'rate': 0.07, 'down_payment': 8900.0},\n",
       " {'amount': 50000.0, 'duraion': 16.0, 'rate': 0.13, 'down_payment': 0.0},\n",
       " {'amount': 230000.0, 'duraion': 48.0, 'rate': 0.08, 'down_payment': 4300.0},\n",
       " {'amount': 500000.0, 'duraion': 99.0, 'rate': 0.08, 'down_payment': 0.0},\n",
       " {'amount': 2500000.0, 'duraion': 27.0, 'rate': 0.09, 'down_payment': 47200.0},\n",
       " {'amount': 5470000.0,\n",
       "  'duraion': 120.0,\n",
       "  'rate': 0.11,\n",
       "  'down_payment': 100000.0},\n",
       " {'amount': 983000.0, 'duraion': 240.0, 'rate': 0.06, 'down_payment': 0.0},\n",
       " {'amount': 5600000.0, 'duraion': 90.0, 'rate': 0.08, 'down_payment': 8900.0},\n",
       " {'amount': 459000.0, 'duraion': 16.0, 'rate': 0.14, 'down_payment': 0.0},\n",
       " {'amount': 670000.0, 'duraion': 48.0, 'rate': 0.07, 'down_payment': 4300.0},\n",
       " {'amount': 4000000.0, 'duraion': 48.0, 'rate': 0.07, 'down_payment': 4300.0},\n",
       " {'amount': 700000.0, 'duraion': 16.0, 'rate': 0.14, 'down_payment': 0.0},\n",
       " {'amount': 200000.0, 'duraion': 12.0, 'rate': 0.1, 'down_payment': 0.0},\n",
       " {'amount': 3637400.0,\n",
       "  'duraion': 120.0,\n",
       "  'rate': 0.12,\n",
       "  'down_payment': 100000.0},\n",
       " {'amount': 728400.0, 'duraion': 240.0, 'rate': 0.06, 'down_payment': 0.0}]"
      ]
     },
     "execution_count": 433,
     "metadata": {},
     "output_type": "execute_result"
    }
   ],
   "source": [
    "read_csv('./data2/housingcompany.txt')"
   ]
  },
  {
   "cell_type": "code",
   "execution_count": 434,
   "id": "4f7271ae",
   "metadata": {},
   "outputs": [],
   "source": [
    "import math\n",
    "def loan_emi(amount, duraion, rate, down_payment = 0):\n",
    "    loan_amount = amount - down_payment\n",
    "    try:\n",
    "        emi = loan_amount * rate * ((1+ rate)**duraion)/((1+rate)**duraion-1)\n",
    "    except ZeroDivisonError:\n",
    "        emi = loan_amount/duraion\n",
    "    emi = math.ceil(emi)\n",
    "    return emi\n",
    "            "
   ]
  },
  {
   "cell_type": "code",
   "execution_count": 435,
   "id": "c4b29ebc",
   "metadata": {},
   "outputs": [],
   "source": [
    "housingcompany = read_csv('./data2/housingcompany.txt')"
   ]
  },
  {
   "cell_type": "code",
   "execution_count": 436,
   "id": "27440621",
   "metadata": {},
   "outputs": [
    {
     "data": {
      "text/plain": [
       "[{'amount': 100000.0, 'duraion': 36.0, 'rate': 0.08, 'down_payment': 20000.0},\n",
       " {'amount': 200000.0, 'duraion': 12.0, 'rate': 0.1, 'down_payment': 0.0},\n",
       " {'amount': 628400.0,\n",
       "  'duraion': 120.0,\n",
       "  'rate': 0.12,\n",
       "  'down_payment': 100000.0},\n",
       " {'amount': 4637400.0, 'duraion': 240.0, 'rate': 0.06, 'down_payment': 0.0},\n",
       " {'amount': 42900.0, 'duraion': 90.0, 'rate': 0.07, 'down_payment': 8900.0},\n",
       " {'amount': 50000.0, 'duraion': 16.0, 'rate': 0.13, 'down_payment': 0.0},\n",
       " {'amount': 230000.0, 'duraion': 48.0, 'rate': 0.08, 'down_payment': 4300.0},\n",
       " {'amount': 500000.0, 'duraion': 99.0, 'rate': 0.08, 'down_payment': 0.0},\n",
       " {'amount': 2500000.0, 'duraion': 27.0, 'rate': 0.09, 'down_payment': 47200.0},\n",
       " {'amount': 5470000.0,\n",
       "  'duraion': 120.0,\n",
       "  'rate': 0.11,\n",
       "  'down_payment': 100000.0},\n",
       " {'amount': 983000.0, 'duraion': 240.0, 'rate': 0.06, 'down_payment': 0.0},\n",
       " {'amount': 5600000.0, 'duraion': 90.0, 'rate': 0.08, 'down_payment': 8900.0},\n",
       " {'amount': 459000.0, 'duraion': 16.0, 'rate': 0.14, 'down_payment': 0.0},\n",
       " {'amount': 670000.0, 'duraion': 48.0, 'rate': 0.07, 'down_payment': 4300.0},\n",
       " {'amount': 4000000.0, 'duraion': 48.0, 'rate': 0.07, 'down_payment': 4300.0},\n",
       " {'amount': 700000.0, 'duraion': 16.0, 'rate': 0.14, 'down_payment': 0.0},\n",
       " {'amount': 200000.0, 'duraion': 12.0, 'rate': 0.1, 'down_payment': 0.0},\n",
       " {'amount': 3637400.0,\n",
       "  'duraion': 120.0,\n",
       "  'rate': 0.12,\n",
       "  'down_payment': 100000.0},\n",
       " {'amount': 728400.0, 'duraion': 240.0, 'rate': 0.06, 'down_payment': 0.0}]"
      ]
     },
     "execution_count": 436,
     "metadata": {},
     "output_type": "execute_result"
    }
   ],
   "source": [
    "housingcompany"
   ]
  },
  {
   "cell_type": "code",
   "execution_count": 437,
   "id": "bf368e1a",
   "metadata": {},
   "outputs": [],
   "source": [
    "for loan in housingcompany:\n",
    "    loan['emi'] = loan_emi(loan['amount'],\n",
    "                           loan['duraion'],\n",
    "                           loan['rate']/12,\n",
    "                           loan['down_payment'])    "
   ]
  },
  {
   "cell_type": "code",
   "execution_count": 438,
   "id": "273b1b20",
   "metadata": {},
   "outputs": [
    {
     "data": {
      "text/plain": [
       "[{'amount': 100000.0,\n",
       "  'duraion': 36.0,\n",
       "  'rate': 0.08,\n",
       "  'down_payment': 20000.0,\n",
       "  'emi': 2507},\n",
       " {'amount': 200000.0,\n",
       "  'duraion': 12.0,\n",
       "  'rate': 0.1,\n",
       "  'down_payment': 0.0,\n",
       "  'emi': 17584},\n",
       " {'amount': 628400.0,\n",
       "  'duraion': 120.0,\n",
       "  'rate': 0.12,\n",
       "  'down_payment': 100000.0,\n",
       "  'emi': 7582},\n",
       " {'amount': 4637400.0,\n",
       "  'duraion': 240.0,\n",
       "  'rate': 0.06,\n",
       "  'down_payment': 0.0,\n",
       "  'emi': 33224},\n",
       " {'amount': 42900.0,\n",
       "  'duraion': 90.0,\n",
       "  'rate': 0.07,\n",
       "  'down_payment': 8900.0,\n",
       "  'emi': 487},\n",
       " {'amount': 50000.0,\n",
       "  'duraion': 16.0,\n",
       "  'rate': 0.13,\n",
       "  'down_payment': 0.0,\n",
       "  'emi': 3421},\n",
       " {'amount': 230000.0,\n",
       "  'duraion': 48.0,\n",
       "  'rate': 0.08,\n",
       "  'down_payment': 4300.0,\n",
       "  'emi': 5510},\n",
       " {'amount': 500000.0,\n",
       "  'duraion': 99.0,\n",
       "  'rate': 0.08,\n",
       "  'down_payment': 0.0,\n",
       "  'emi': 6916},\n",
       " {'amount': 2500000.0,\n",
       "  'duraion': 27.0,\n",
       "  'rate': 0.09,\n",
       "  'down_payment': 47200.0,\n",
       "  'emi': 100692},\n",
       " {'amount': 5470000.0,\n",
       "  'duraion': 120.0,\n",
       "  'rate': 0.11,\n",
       "  'down_payment': 100000.0,\n",
       "  'emi': 73972},\n",
       " {'amount': 983000.0,\n",
       "  'duraion': 240.0,\n",
       "  'rate': 0.06,\n",
       "  'down_payment': 0.0,\n",
       "  'emi': 7043},\n",
       " {'amount': 5600000.0,\n",
       "  'duraion': 90.0,\n",
       "  'rate': 0.08,\n",
       "  'down_payment': 8900.0,\n",
       "  'emi': 82814},\n",
       " {'amount': 459000.0,\n",
       "  'duraion': 16.0,\n",
       "  'rate': 0.14,\n",
       "  'down_payment': 0.0,\n",
       "  'emi': 31615},\n",
       " {'amount': 670000.0,\n",
       "  'duraion': 48.0,\n",
       "  'rate': 0.07,\n",
       "  'down_payment': 4300.0,\n",
       "  'emi': 15942},\n",
       " {'amount': 4000000.0,\n",
       "  'duraion': 48.0,\n",
       "  'rate': 0.07,\n",
       "  'down_payment': 4300.0,\n",
       "  'emi': 95683},\n",
       " {'amount': 700000.0,\n",
       "  'duraion': 16.0,\n",
       "  'rate': 0.14,\n",
       "  'down_payment': 0.0,\n",
       "  'emi': 48215},\n",
       " {'amount': 200000.0,\n",
       "  'duraion': 12.0,\n",
       "  'rate': 0.1,\n",
       "  'down_payment': 0.0,\n",
       "  'emi': 17584},\n",
       " {'amount': 3637400.0,\n",
       "  'duraion': 120.0,\n",
       "  'rate': 0.12,\n",
       "  'down_payment': 100000.0,\n",
       "  'emi': 50752},\n",
       " {'amount': 728400.0,\n",
       "  'duraion': 240.0,\n",
       "  'rate': 0.06,\n",
       "  'down_payment': 0.0,\n",
       "  'emi': 5219}]"
      ]
     },
     "execution_count": 438,
     "metadata": {},
     "output_type": "execute_result"
    }
   ],
   "source": [
    "housingcompany"
   ]
  },
  {
   "cell_type": "code",
   "execution_count": 454,
   "id": "923daace",
   "metadata": {},
   "outputs": [],
   "source": [
    "def compute_emis(loans):\n",
    "    for loan in loans:\n",
    "        loan['emi'] = loan_emi(\n",
    "        loan['amount'],\n",
    "        loan['duraion'],\n",
    "        loan['rate']/12,\n",
    "        loan['down_payment'])"
   ]
  },
  {
   "cell_type": "code",
   "execution_count": null,
   "id": "10eae2a1",
   "metadata": {},
   "outputs": [],
   "source": [
    "read_csv('./data2/housingcompany.txt')"
   ]
  },
  {
   "cell_type": "code",
   "execution_count": 442,
   "id": "af0f4b53",
   "metadata": {},
   "outputs": [],
   "source": [
    "compute_emis(housingcompany)"
   ]
  },
  {
   "cell_type": "code",
   "execution_count": 443,
   "id": "46b610ec",
   "metadata": {},
   "outputs": [
    {
     "data": {
      "text/plain": [
       "[{'amount': 100000.0,\n",
       "  'duraion': 36.0,\n",
       "  'rate': 0.08,\n",
       "  'down_payment': 20000.0,\n",
       "  'emi': 2507},\n",
       " {'amount': 200000.0,\n",
       "  'duraion': 12.0,\n",
       "  'rate': 0.1,\n",
       "  'down_payment': 0.0,\n",
       "  'emi': 17584},\n",
       " {'amount': 628400.0,\n",
       "  'duraion': 120.0,\n",
       "  'rate': 0.12,\n",
       "  'down_payment': 100000.0,\n",
       "  'emi': 7582},\n",
       " {'amount': 4637400.0,\n",
       "  'duraion': 240.0,\n",
       "  'rate': 0.06,\n",
       "  'down_payment': 0.0,\n",
       "  'emi': 33224},\n",
       " {'amount': 42900.0,\n",
       "  'duraion': 90.0,\n",
       "  'rate': 0.07,\n",
       "  'down_payment': 8900.0,\n",
       "  'emi': 487},\n",
       " {'amount': 50000.0,\n",
       "  'duraion': 16.0,\n",
       "  'rate': 0.13,\n",
       "  'down_payment': 0.0,\n",
       "  'emi': 3421},\n",
       " {'amount': 230000.0,\n",
       "  'duraion': 48.0,\n",
       "  'rate': 0.08,\n",
       "  'down_payment': 4300.0,\n",
       "  'emi': 5510},\n",
       " {'amount': 500000.0,\n",
       "  'duraion': 99.0,\n",
       "  'rate': 0.08,\n",
       "  'down_payment': 0.0,\n",
       "  'emi': 6916},\n",
       " {'amount': 2500000.0,\n",
       "  'duraion': 27.0,\n",
       "  'rate': 0.09,\n",
       "  'down_payment': 47200.0,\n",
       "  'emi': 100692},\n",
       " {'amount': 5470000.0,\n",
       "  'duraion': 120.0,\n",
       "  'rate': 0.11,\n",
       "  'down_payment': 100000.0,\n",
       "  'emi': 73972},\n",
       " {'amount': 983000.0,\n",
       "  'duraion': 240.0,\n",
       "  'rate': 0.06,\n",
       "  'down_payment': 0.0,\n",
       "  'emi': 7043},\n",
       " {'amount': 5600000.0,\n",
       "  'duraion': 90.0,\n",
       "  'rate': 0.08,\n",
       "  'down_payment': 8900.0,\n",
       "  'emi': 82814},\n",
       " {'amount': 459000.0,\n",
       "  'duraion': 16.0,\n",
       "  'rate': 0.14,\n",
       "  'down_payment': 0.0,\n",
       "  'emi': 31615},\n",
       " {'amount': 670000.0,\n",
       "  'duraion': 48.0,\n",
       "  'rate': 0.07,\n",
       "  'down_payment': 4300.0,\n",
       "  'emi': 15942},\n",
       " {'amount': 4000000.0,\n",
       "  'duraion': 48.0,\n",
       "  'rate': 0.07,\n",
       "  'down_payment': 4300.0,\n",
       "  'emi': 95683},\n",
       " {'amount': 700000.0,\n",
       "  'duraion': 16.0,\n",
       "  'rate': 0.14,\n",
       "  'down_payment': 0.0,\n",
       "  'emi': 48215},\n",
       " {'amount': 200000.0,\n",
       "  'duraion': 12.0,\n",
       "  'rate': 0.1,\n",
       "  'down_payment': 0.0,\n",
       "  'emi': 17584},\n",
       " {'amount': 3637400.0,\n",
       "  'duraion': 120.0,\n",
       "  'rate': 0.12,\n",
       "  'down_payment': 100000.0,\n",
       "  'emi': 50752},\n",
       " {'amount': 728400.0,\n",
       "  'duraion': 240.0,\n",
       "  'rate': 0.06,\n",
       "  'down_payment': 0.0,\n",
       "  'emi': 5219}]"
      ]
     },
     "execution_count": 443,
     "metadata": {},
     "output_type": "execute_result"
    }
   ],
   "source": [
    "housingcompany "
   ]
  },
  {
   "cell_type": "code",
   "execution_count": 452,
   "id": "00877d51",
   "metadata": {},
   "outputs": [],
   "source": [
    "with open('./data2/emis11.txt', 'w') as f:\n",
    "    for loan in housingcompany:\n",
    "        f.write('{},{},{},{},{}\\n'.format(\n",
    "        loan['amount'],\n",
    "        loan['duraion'],\n",
    "        loan['rate'],\n",
    "        loan['down_payment'],\n",
    "        loan['emi']))"
   ]
  },
  {
   "cell_type": "code",
   "execution_count": 453,
   "id": "b2c2bd8a",
   "metadata": {},
   "outputs": [
    {
     "data": {
      "text/plain": [
       "['.ipynb_checkpoints',\n",
       " 'emis.txt',\n",
       " 'emis11.txt',\n",
       " 'housing company.txt',\n",
       " 'housingcompany.txt']"
      ]
     },
     "execution_count": 453,
     "metadata": {},
     "output_type": "execute_result"
    }
   ],
   "source": [
    "os.listdir('data2')"
   ]
  },
  {
   "cell_type": "markdown",
   "id": "623ed486",
   "metadata": {},
   "source": [
    "IN THE ABOVE RESULT, WE CAN SEE THAT emis11.txt FILE HAS BEEN ADDED ALONGWITH housingcompany.txt(please ignore remaining files)"
   ]
  }
 ],
 "metadata": {
  "kernelspec": {
   "display_name": "Python 3",
   "language": "python",
   "name": "python3"
  },
  "language_info": {
   "codemirror_mode": {
    "name": "ipython",
    "version": 3
   },
   "file_extension": ".py",
   "mimetype": "text/x-python",
   "name": "python",
   "nbconvert_exporter": "python",
   "pygments_lexer": "ipython3",
   "version": "3.7.1"
  }
 },
 "nbformat": 4,
 "nbformat_minor": 5
}
